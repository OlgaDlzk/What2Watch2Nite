{
 "cells": [
  {
   "cell_type": "markdown",
   "id": "96fa6e61",
   "metadata": {},
   "source": [
    "### Importing dependencies, checking the shape, columns and data types"
   ]
  },
  {
   "cell_type": "code",
   "execution_count": 1,
   "id": "043b7a12",
   "metadata": {},
   "outputs": [],
   "source": [
    "# Import dependecies\n",
    "import pandas as pd\n",
    "import numpy as np\n",
    "from pathlib import Path\n",
    "import json"
   ]
  },
  {
   "cell_type": "code",
   "execution_count": 2,
   "id": "0d1e6419",
   "metadata": {},
   "outputs": [
    {
     "ename": "FileNotFoundError",
     "evalue": "[Errno 2] No such file or directory: 'tvs.csv'",
     "output_type": "error",
     "traceback": [
      "\u001b[0;31m---------------------------------------------------------------------------\u001b[0m",
      "\u001b[0;31mFileNotFoundError\u001b[0m                         Traceback (most recent call last)",
      "Cell \u001b[0;32mIn[2], line 2\u001b[0m\n\u001b[1;32m      1\u001b[0m \u001b[38;5;66;03m# Read csv\u001b[39;00m\n\u001b[0;32m----> 2\u001b[0m tv_shows_df \u001b[38;5;241m=\u001b[39m \u001b[43mpd\u001b[49m\u001b[38;5;241;43m.\u001b[39;49m\u001b[43mread_csv\u001b[49m\u001b[43m(\u001b[49m\u001b[43mPath\u001b[49m\u001b[43m(\u001b[49m\u001b[38;5;124;43m\"\u001b[39;49m\u001b[38;5;124;43mtvs.csv\u001b[39;49m\u001b[38;5;124;43m\"\u001b[39;49m\u001b[43m)\u001b[49m\u001b[43m)\u001b[49m\n",
      "File \u001b[0;32m~/opt/anaconda3/envs/flask-env/lib/python3.11/site-packages/pandas/io/parsers/readers.py:912\u001b[0m, in \u001b[0;36mread_csv\u001b[0;34m(filepath_or_buffer, sep, delimiter, header, names, index_col, usecols, dtype, engine, converters, true_values, false_values, skipinitialspace, skiprows, skipfooter, nrows, na_values, keep_default_na, na_filter, verbose, skip_blank_lines, parse_dates, infer_datetime_format, keep_date_col, date_parser, date_format, dayfirst, cache_dates, iterator, chunksize, compression, thousands, decimal, lineterminator, quotechar, quoting, doublequote, escapechar, comment, encoding, encoding_errors, dialect, on_bad_lines, delim_whitespace, low_memory, memory_map, float_precision, storage_options, dtype_backend)\u001b[0m\n\u001b[1;32m    899\u001b[0m kwds_defaults \u001b[38;5;241m=\u001b[39m _refine_defaults_read(\n\u001b[1;32m    900\u001b[0m     dialect,\n\u001b[1;32m    901\u001b[0m     delimiter,\n\u001b[0;32m   (...)\u001b[0m\n\u001b[1;32m    908\u001b[0m     dtype_backend\u001b[38;5;241m=\u001b[39mdtype_backend,\n\u001b[1;32m    909\u001b[0m )\n\u001b[1;32m    910\u001b[0m kwds\u001b[38;5;241m.\u001b[39mupdate(kwds_defaults)\n\u001b[0;32m--> 912\u001b[0m \u001b[38;5;28;01mreturn\u001b[39;00m \u001b[43m_read\u001b[49m\u001b[43m(\u001b[49m\u001b[43mfilepath_or_buffer\u001b[49m\u001b[43m,\u001b[49m\u001b[43m \u001b[49m\u001b[43mkwds\u001b[49m\u001b[43m)\u001b[49m\n",
      "File \u001b[0;32m~/opt/anaconda3/envs/flask-env/lib/python3.11/site-packages/pandas/io/parsers/readers.py:577\u001b[0m, in \u001b[0;36m_read\u001b[0;34m(filepath_or_buffer, kwds)\u001b[0m\n\u001b[1;32m    574\u001b[0m _validate_names(kwds\u001b[38;5;241m.\u001b[39mget(\u001b[38;5;124m\"\u001b[39m\u001b[38;5;124mnames\u001b[39m\u001b[38;5;124m\"\u001b[39m, \u001b[38;5;28;01mNone\u001b[39;00m))\n\u001b[1;32m    576\u001b[0m \u001b[38;5;66;03m# Create the parser.\u001b[39;00m\n\u001b[0;32m--> 577\u001b[0m parser \u001b[38;5;241m=\u001b[39m \u001b[43mTextFileReader\u001b[49m\u001b[43m(\u001b[49m\u001b[43mfilepath_or_buffer\u001b[49m\u001b[43m,\u001b[49m\u001b[43m \u001b[49m\u001b[38;5;241;43m*\u001b[39;49m\u001b[38;5;241;43m*\u001b[39;49m\u001b[43mkwds\u001b[49m\u001b[43m)\u001b[49m\n\u001b[1;32m    579\u001b[0m \u001b[38;5;28;01mif\u001b[39;00m chunksize \u001b[38;5;129;01mor\u001b[39;00m iterator:\n\u001b[1;32m    580\u001b[0m     \u001b[38;5;28;01mreturn\u001b[39;00m parser\n",
      "File \u001b[0;32m~/opt/anaconda3/envs/flask-env/lib/python3.11/site-packages/pandas/io/parsers/readers.py:1407\u001b[0m, in \u001b[0;36mTextFileReader.__init__\u001b[0;34m(self, f, engine, **kwds)\u001b[0m\n\u001b[1;32m   1404\u001b[0m     \u001b[38;5;28mself\u001b[39m\u001b[38;5;241m.\u001b[39moptions[\u001b[38;5;124m\"\u001b[39m\u001b[38;5;124mhas_index_names\u001b[39m\u001b[38;5;124m\"\u001b[39m] \u001b[38;5;241m=\u001b[39m kwds[\u001b[38;5;124m\"\u001b[39m\u001b[38;5;124mhas_index_names\u001b[39m\u001b[38;5;124m\"\u001b[39m]\n\u001b[1;32m   1406\u001b[0m \u001b[38;5;28mself\u001b[39m\u001b[38;5;241m.\u001b[39mhandles: IOHandles \u001b[38;5;241m|\u001b[39m \u001b[38;5;28;01mNone\u001b[39;00m \u001b[38;5;241m=\u001b[39m \u001b[38;5;28;01mNone\u001b[39;00m\n\u001b[0;32m-> 1407\u001b[0m \u001b[38;5;28mself\u001b[39m\u001b[38;5;241m.\u001b[39m_engine \u001b[38;5;241m=\u001b[39m \u001b[38;5;28;43mself\u001b[39;49m\u001b[38;5;241;43m.\u001b[39;49m\u001b[43m_make_engine\u001b[49m\u001b[43m(\u001b[49m\u001b[43mf\u001b[49m\u001b[43m,\u001b[49m\u001b[43m \u001b[49m\u001b[38;5;28;43mself\u001b[39;49m\u001b[38;5;241;43m.\u001b[39;49m\u001b[43mengine\u001b[49m\u001b[43m)\u001b[49m\n",
      "File \u001b[0;32m~/opt/anaconda3/envs/flask-env/lib/python3.11/site-packages/pandas/io/parsers/readers.py:1661\u001b[0m, in \u001b[0;36mTextFileReader._make_engine\u001b[0;34m(self, f, engine)\u001b[0m\n\u001b[1;32m   1659\u001b[0m     \u001b[38;5;28;01mif\u001b[39;00m \u001b[38;5;124m\"\u001b[39m\u001b[38;5;124mb\u001b[39m\u001b[38;5;124m\"\u001b[39m \u001b[38;5;129;01mnot\u001b[39;00m \u001b[38;5;129;01min\u001b[39;00m mode:\n\u001b[1;32m   1660\u001b[0m         mode \u001b[38;5;241m+\u001b[39m\u001b[38;5;241m=\u001b[39m \u001b[38;5;124m\"\u001b[39m\u001b[38;5;124mb\u001b[39m\u001b[38;5;124m\"\u001b[39m\n\u001b[0;32m-> 1661\u001b[0m \u001b[38;5;28mself\u001b[39m\u001b[38;5;241m.\u001b[39mhandles \u001b[38;5;241m=\u001b[39m \u001b[43mget_handle\u001b[49m\u001b[43m(\u001b[49m\n\u001b[1;32m   1662\u001b[0m \u001b[43m    \u001b[49m\u001b[43mf\u001b[49m\u001b[43m,\u001b[49m\n\u001b[1;32m   1663\u001b[0m \u001b[43m    \u001b[49m\u001b[43mmode\u001b[49m\u001b[43m,\u001b[49m\n\u001b[1;32m   1664\u001b[0m \u001b[43m    \u001b[49m\u001b[43mencoding\u001b[49m\u001b[38;5;241;43m=\u001b[39;49m\u001b[38;5;28;43mself\u001b[39;49m\u001b[38;5;241;43m.\u001b[39;49m\u001b[43moptions\u001b[49m\u001b[38;5;241;43m.\u001b[39;49m\u001b[43mget\u001b[49m\u001b[43m(\u001b[49m\u001b[38;5;124;43m\"\u001b[39;49m\u001b[38;5;124;43mencoding\u001b[39;49m\u001b[38;5;124;43m\"\u001b[39;49m\u001b[43m,\u001b[49m\u001b[43m \u001b[49m\u001b[38;5;28;43;01mNone\u001b[39;49;00m\u001b[43m)\u001b[49m\u001b[43m,\u001b[49m\n\u001b[1;32m   1665\u001b[0m \u001b[43m    \u001b[49m\u001b[43mcompression\u001b[49m\u001b[38;5;241;43m=\u001b[39;49m\u001b[38;5;28;43mself\u001b[39;49m\u001b[38;5;241;43m.\u001b[39;49m\u001b[43moptions\u001b[49m\u001b[38;5;241;43m.\u001b[39;49m\u001b[43mget\u001b[49m\u001b[43m(\u001b[49m\u001b[38;5;124;43m\"\u001b[39;49m\u001b[38;5;124;43mcompression\u001b[39;49m\u001b[38;5;124;43m\"\u001b[39;49m\u001b[43m,\u001b[49m\u001b[43m \u001b[49m\u001b[38;5;28;43;01mNone\u001b[39;49;00m\u001b[43m)\u001b[49m\u001b[43m,\u001b[49m\n\u001b[1;32m   1666\u001b[0m \u001b[43m    \u001b[49m\u001b[43mmemory_map\u001b[49m\u001b[38;5;241;43m=\u001b[39;49m\u001b[38;5;28;43mself\u001b[39;49m\u001b[38;5;241;43m.\u001b[39;49m\u001b[43moptions\u001b[49m\u001b[38;5;241;43m.\u001b[39;49m\u001b[43mget\u001b[49m\u001b[43m(\u001b[49m\u001b[38;5;124;43m\"\u001b[39;49m\u001b[38;5;124;43mmemory_map\u001b[39;49m\u001b[38;5;124;43m\"\u001b[39;49m\u001b[43m,\u001b[49m\u001b[43m \u001b[49m\u001b[38;5;28;43;01mFalse\u001b[39;49;00m\u001b[43m)\u001b[49m\u001b[43m,\u001b[49m\n\u001b[1;32m   1667\u001b[0m \u001b[43m    \u001b[49m\u001b[43mis_text\u001b[49m\u001b[38;5;241;43m=\u001b[39;49m\u001b[43mis_text\u001b[49m\u001b[43m,\u001b[49m\n\u001b[1;32m   1668\u001b[0m \u001b[43m    \u001b[49m\u001b[43merrors\u001b[49m\u001b[38;5;241;43m=\u001b[39;49m\u001b[38;5;28;43mself\u001b[39;49m\u001b[38;5;241;43m.\u001b[39;49m\u001b[43moptions\u001b[49m\u001b[38;5;241;43m.\u001b[39;49m\u001b[43mget\u001b[49m\u001b[43m(\u001b[49m\u001b[38;5;124;43m\"\u001b[39;49m\u001b[38;5;124;43mencoding_errors\u001b[39;49m\u001b[38;5;124;43m\"\u001b[39;49m\u001b[43m,\u001b[49m\u001b[43m \u001b[49m\u001b[38;5;124;43m\"\u001b[39;49m\u001b[38;5;124;43mstrict\u001b[39;49m\u001b[38;5;124;43m\"\u001b[39;49m\u001b[43m)\u001b[49m\u001b[43m,\u001b[49m\n\u001b[1;32m   1669\u001b[0m \u001b[43m    \u001b[49m\u001b[43mstorage_options\u001b[49m\u001b[38;5;241;43m=\u001b[39;49m\u001b[38;5;28;43mself\u001b[39;49m\u001b[38;5;241;43m.\u001b[39;49m\u001b[43moptions\u001b[49m\u001b[38;5;241;43m.\u001b[39;49m\u001b[43mget\u001b[49m\u001b[43m(\u001b[49m\u001b[38;5;124;43m\"\u001b[39;49m\u001b[38;5;124;43mstorage_options\u001b[39;49m\u001b[38;5;124;43m\"\u001b[39;49m\u001b[43m,\u001b[49m\u001b[43m \u001b[49m\u001b[38;5;28;43;01mNone\u001b[39;49;00m\u001b[43m)\u001b[49m\u001b[43m,\u001b[49m\n\u001b[1;32m   1670\u001b[0m \u001b[43m\u001b[49m\u001b[43m)\u001b[49m\n\u001b[1;32m   1671\u001b[0m \u001b[38;5;28;01massert\u001b[39;00m \u001b[38;5;28mself\u001b[39m\u001b[38;5;241m.\u001b[39mhandles \u001b[38;5;129;01mis\u001b[39;00m \u001b[38;5;129;01mnot\u001b[39;00m \u001b[38;5;28;01mNone\u001b[39;00m\n\u001b[1;32m   1672\u001b[0m f \u001b[38;5;241m=\u001b[39m \u001b[38;5;28mself\u001b[39m\u001b[38;5;241m.\u001b[39mhandles\u001b[38;5;241m.\u001b[39mhandle\n",
      "File \u001b[0;32m~/opt/anaconda3/envs/flask-env/lib/python3.11/site-packages/pandas/io/common.py:859\u001b[0m, in \u001b[0;36mget_handle\u001b[0;34m(path_or_buf, mode, encoding, compression, memory_map, is_text, errors, storage_options)\u001b[0m\n\u001b[1;32m    854\u001b[0m \u001b[38;5;28;01melif\u001b[39;00m \u001b[38;5;28misinstance\u001b[39m(handle, \u001b[38;5;28mstr\u001b[39m):\n\u001b[1;32m    855\u001b[0m     \u001b[38;5;66;03m# Check whether the filename is to be opened in binary mode.\u001b[39;00m\n\u001b[1;32m    856\u001b[0m     \u001b[38;5;66;03m# Binary mode does not support 'encoding' and 'newline'.\u001b[39;00m\n\u001b[1;32m    857\u001b[0m     \u001b[38;5;28;01mif\u001b[39;00m ioargs\u001b[38;5;241m.\u001b[39mencoding \u001b[38;5;129;01mand\u001b[39;00m \u001b[38;5;124m\"\u001b[39m\u001b[38;5;124mb\u001b[39m\u001b[38;5;124m\"\u001b[39m \u001b[38;5;129;01mnot\u001b[39;00m \u001b[38;5;129;01min\u001b[39;00m ioargs\u001b[38;5;241m.\u001b[39mmode:\n\u001b[1;32m    858\u001b[0m         \u001b[38;5;66;03m# Encoding\u001b[39;00m\n\u001b[0;32m--> 859\u001b[0m         handle \u001b[38;5;241m=\u001b[39m \u001b[38;5;28;43mopen\u001b[39;49m\u001b[43m(\u001b[49m\n\u001b[1;32m    860\u001b[0m \u001b[43m            \u001b[49m\u001b[43mhandle\u001b[49m\u001b[43m,\u001b[49m\n\u001b[1;32m    861\u001b[0m \u001b[43m            \u001b[49m\u001b[43mioargs\u001b[49m\u001b[38;5;241;43m.\u001b[39;49m\u001b[43mmode\u001b[49m\u001b[43m,\u001b[49m\n\u001b[1;32m    862\u001b[0m \u001b[43m            \u001b[49m\u001b[43mencoding\u001b[49m\u001b[38;5;241;43m=\u001b[39;49m\u001b[43mioargs\u001b[49m\u001b[38;5;241;43m.\u001b[39;49m\u001b[43mencoding\u001b[49m\u001b[43m,\u001b[49m\n\u001b[1;32m    863\u001b[0m \u001b[43m            \u001b[49m\u001b[43merrors\u001b[49m\u001b[38;5;241;43m=\u001b[39;49m\u001b[43merrors\u001b[49m\u001b[43m,\u001b[49m\n\u001b[1;32m    864\u001b[0m \u001b[43m            \u001b[49m\u001b[43mnewline\u001b[49m\u001b[38;5;241;43m=\u001b[39;49m\u001b[38;5;124;43m\"\u001b[39;49m\u001b[38;5;124;43m\"\u001b[39;49m\u001b[43m,\u001b[49m\n\u001b[1;32m    865\u001b[0m \u001b[43m        \u001b[49m\u001b[43m)\u001b[49m\n\u001b[1;32m    866\u001b[0m     \u001b[38;5;28;01melse\u001b[39;00m:\n\u001b[1;32m    867\u001b[0m         \u001b[38;5;66;03m# Binary mode\u001b[39;00m\n\u001b[1;32m    868\u001b[0m         handle \u001b[38;5;241m=\u001b[39m \u001b[38;5;28mopen\u001b[39m(handle, ioargs\u001b[38;5;241m.\u001b[39mmode)\n",
      "\u001b[0;31mFileNotFoundError\u001b[0m: [Errno 2] No such file or directory: 'tvs.csv'"
     ]
    }
   ],
   "source": [
    "# Read csv\n",
    "tv_shows_df = pd.read_csv(Path(\"tvs.csv\"))\n"
   ]
  },
  {
   "cell_type": "code",
   "execution_count": null,
   "id": "4f3c7214",
   "metadata": {},
   "outputs": [],
   "source": [
    "tv_shows_df.head(30)"
   ]
  },
  {
   "cell_type": "code",
   "execution_count": null,
   "id": "6006b91f",
   "metadata": {},
   "outputs": [],
   "source": [
    "# The shape of the DF\n",
    "tv_shows_df.shape"
   ]
  },
  {
   "cell_type": "code",
   "execution_count": null,
   "id": "5b1274a0",
   "metadata": {},
   "outputs": [],
   "source": [
    "# All the columns\n",
    "print(list(tv_shows_df.columns))"
   ]
  },
  {
   "cell_type": "code",
   "execution_count": null,
   "id": "caf25606",
   "metadata": {},
   "outputs": [],
   "source": [
    "tv_shows_df.dtypes"
   ]
  },
  {
   "cell_type": "code",
   "execution_count": null,
   "id": "f35a8c13",
   "metadata": {},
   "outputs": [],
   "source": [
    "tv_shows_df.nunique()"
   ]
  },
  {
   "cell_type": "code",
   "execution_count": null,
   "id": "60bdb8df",
   "metadata": {},
   "outputs": [],
   "source": [
    "tv_shows_df['genres'][0]"
   ]
  },
  {
   "cell_type": "code",
   "execution_count": null,
   "id": "fa0853b1",
   "metadata": {},
   "outputs": [],
   "source": []
  },
  {
   "cell_type": "markdown",
   "id": "14c058d1",
   "metadata": {},
   "source": [
    "### This dataset includes the following information for each entry:\n",
    "\n",
    "- **ID:** Unique identifier for the TV series.\n",
    "- **Name:** Title of the TV series.\n",
    "- **Original Name:** Original title of the TV series.\n",
    "- **Overview:** Brief summary or description of the TV series.\n",
    "- **Tagline:** Catchphrase or memorable line associated with the TV series (if available).\n",
    "- **In Production:** Indicates whether the TV series is currently in production or not.\n",
    "- **Status:** Current status of the TV series (e.g., in production, ended, canceled).\n",
    "- **Original Language:** Language in which the TV series was originally created.\n",
    "- **Origin Country:** Country of origin for the TV series.\n",
    "- **Created By:** Name(s) of the individual(s) or organization(s) credited with creating the TV series.\n",
    "- **First Air Date:** Date when the TV series first aired.\n",
    "- **Last Air Date:** Date of the latest episode or season finale.\n",
    "- **Number of Episodes:** Total number of episodes available for the TV series.\n",
    "- **Number of Seasons:** Total number of seasons produced for the TV series.\n",
    "- **Production Companies:** Companies involved in the production of the TV series.\n",
    "- **Poster Path:** URL of the poster image associated with the TV series. The format of the URL is as follows:      https://www.themoviedb.org/t/p/w600_and_h900_bestv2/xxxx.jpg.\n",
    "- **Genres:** Genre(s) or category to which the TV series belongs.\n",
    "- **Vote Average:** Average rating given to the TV series by viewers.\n",
    "- **Vote Count:** Total number of votes received for the TV series.\n",
    "- **Popularity:** Popularity score or ranking of the TV series.\n"
   ]
  },
  {
   "cell_type": "markdown",
   "id": "10b145ce",
   "metadata": {},
   "source": [
    "### Cleaning genre, created_by, production_companies columns"
   ]
  },
  {
   "cell_type": "code",
   "execution_count": null,
   "id": "f670313f",
   "metadata": {},
   "outputs": [],
   "source": [
    "tv_shows_df['_id'].nunique()"
   ]
  },
  {
   "cell_type": "code",
   "execution_count": null,
   "id": "681b32a0",
   "metadata": {},
   "outputs": [],
   "source": [
    "# Parsing the genre id and genre name into separate columns\n",
    "\n",
    "# Function to extract genre id\n",
    "def extract_genre_id(json_str):\n",
    "    load_str = json.loads(json_str)\n",
    "    if load_str:\n",
    "        return load_str[0]['id']\n",
    "    return None\n",
    "\n",
    "# Function to extract genre name\n",
    "def extract_genre_name(json_str):\n",
    "    load_str = json.loads(json_str)\n",
    "    if load_str:\n",
    "        return load_str[0]['name']\n",
    "    return None\n",
    "\n",
    "# Assigning to new columns\n",
    "tv_shows_df['genre_id'] = tv_shows_df['genres'].apply(extract_genre_id)\n",
    "tv_shows_df['genre_name'] = tv_shows_df['genres'].apply(extract_genre_name)"
   ]
  },
  {
   "cell_type": "code",
   "execution_count": null,
   "id": "3f761f99",
   "metadata": {},
   "outputs": [],
   "source": [
    "tv_shows_df.head()"
   ]
  },
  {
   "cell_type": "code",
   "execution_count": null,
   "id": "8e4a506d",
   "metadata": {},
   "outputs": [],
   "source": [
    "# Parsing the creators id and names into separate columns\n",
    "\n",
    "# Function to extract created_by id\n",
    "def extract_creator_id(json_str):\n",
    "    creators = json.loads(json_str)\n",
    "    creator_ids = [creator['id'] for creator in creators]\n",
    "    return creator_ids\n",
    "\n",
    "# Function to extract created_by name\n",
    "def extract_creator_name(json_str):\n",
    "    creators = json.loads(json_str)\n",
    "    creator_names = [creator['name'] for creator in creators]\n",
    "    return creator_names\n",
    "\n",
    "# Assigning the columns\n",
    "tv_shows_df['creator_ids'] = tv_shows_df['created_by'].apply(extract_creator_id)\n",
    "tv_shows_df['creator_names'] = tv_shows_df['created_by'].apply(extract_creator_name)"
   ]
  },
  {
   "cell_type": "code",
   "execution_count": null,
   "id": "60d933df",
   "metadata": {},
   "outputs": [],
   "source": [
    "tv_shows_df.head()"
   ]
  },
  {
   "cell_type": "code",
   "execution_count": null,
   "id": "7fdae0fa",
   "metadata": {},
   "outputs": [],
   "source": [
    "tv_shows_df['production_companies'][2]"
   ]
  },
  {
   "cell_type": "code",
   "execution_count": null,
   "id": "d8b60e0e",
   "metadata": {},
   "outputs": [],
   "source": [
    "tv_shows_df['created_by'][1]"
   ]
  },
  {
   "cell_type": "code",
   "execution_count": null,
   "id": "11c7ea2d",
   "metadata": {},
   "outputs": [],
   "source": [
    "# Parsing the production ids, names, logos and original country into separate columns\n",
    "\n",
    "# Function to extract production id\n",
    "def extract_production_id(json_str):\n",
    "    productions = json.loads(json_str)\n",
    "    production_ids = [production['id'] for production in productions]\n",
    "    return production_ids\n",
    "\n",
    "# Function to extract production name\n",
    "def extract_production_name(json_str):\n",
    "    productions = json.loads(json_str)\n",
    "    production_names = [production['name'] for production in productions]\n",
    "    return production_names\n",
    "\n",
    "# Function to extract production logo_path\n",
    "def extract_production_logo(json_str):\n",
    "    productions = json.loads(json_str)\n",
    "    production_logos = [production['logo_path'] for production in productions]\n",
    "    return production_logos\n",
    "\n",
    "# Function to extract production origin_country\n",
    "def extract_production_origin_country(json_str):\n",
    "    productions = json.loads(json_str)\n",
    "    production_origin_countries = [production['origin_country'] for production in productions]\n",
    "    return production_origin_countries\n",
    "\n",
    "# Assigning the columns\n",
    "tv_shows_df['production_ids'] = tv_shows_df['production_companies'].apply(extract_production_id)\n",
    "tv_shows_df['production_names'] = tv_shows_df['production_companies'].apply(extract_production_name)\n",
    "tv_shows_df['production_logo_paths'] = tv_shows_df['production_companies'].apply(extract_production_logo)\n",
    "tv_shows_df['production_origin_countries'] = tv_shows_df['production_companies'].apply(extract_production_origin_country)"
   ]
  },
  {
   "cell_type": "code",
   "execution_count": null,
   "id": "f915c311",
   "metadata": {},
   "outputs": [],
   "source": [
    "tv_shows_df.head(10)"
   ]
  },
  {
   "cell_type": "code",
   "execution_count": null,
   "id": "05d4911a",
   "metadata": {},
   "outputs": [],
   "source": [
    "tv_shows_df.drop(columns=['created_by', 'genres', 'production_companies'])"
   ]
  },
  {
   "cell_type": "code",
   "execution_count": null,
   "id": "04f63c0b",
   "metadata": {},
   "outputs": [],
   "source": [
    "new_column_order = ['_id', 'id', 'name', 'original_name',\n",
    "                   'genre_id', 'genre_name', 'number_of_seasons', 'number_of_episodes',\n",
    "                    'first_air_date', 'last_air_date', 'status', 'in_production', \n",
    "                   'popularity', 'vote_average', 'vote_count',\n",
    "                    'origin_country', 'original_language', \n",
    "                    'overview', 'tagline',\n",
    "                    'creator_ids', 'creator_names', \n",
    "                    'production_ids', 'production_names', 'production_logo_paths', 'production_origin_countries',\n",
    "                    'poster_path'\n",
    "                   ]\n",
    "\n",
    "tv_shows_df = tv_shows_df[new_column_order]"
   ]
  },
  {
   "cell_type": "code",
   "execution_count": null,
   "id": "9771989d",
   "metadata": {},
   "outputs": [],
   "source": [
    "tv_shows_df.head()"
   ]
  },
  {
   "cell_type": "code",
   "execution_count": null,
   "id": "1a7c5695",
   "metadata": {},
   "outputs": [],
   "source": [
    "# Dropping not needed columns\n",
    "tv_shows_df = tv_shows_df.drop(columns=['_id', 'genre_id', 'creator_ids', 'production_ids'])"
   ]
  },
  {
   "cell_type": "markdown",
   "id": "f0d8b6c4",
   "metadata": {},
   "source": [
    "### Gettig rid from not needed rows. "
   ]
  },
  {
   "cell_type": "code",
   "execution_count": null,
   "id": "c7dd1e07",
   "metadata": {},
   "outputs": [],
   "source": [
    "# Dropping the rows where vote_count is less than 5\n",
    "excluded_vote_count_values = [0, 1, 2, 3, 4]\n",
    "tv_shows_df = tv_shows_df[~tv_shows_df['vote_count'].isin(excluded_vote_count_values)]\n"
   ]
  },
  {
   "cell_type": "code",
   "execution_count": null,
   "id": "350f5acc",
   "metadata": {},
   "outputs": [],
   "source": [
    "# Droppin the rows where number_of_seasons is 0 and number_of_episodes is 0\n",
    "tv_shows_df = tv_shows_df[(tv_shows_df['number_of_seasons'] != 0) | (tv_shows_df['number_of_episodes'] != 0)]\n",
    "tv_shows_df.shape"
   ]
  },
  {
   "cell_type": "code",
   "execution_count": null,
   "id": "626dc6ab",
   "metadata": {},
   "outputs": [],
   "source": []
  },
  {
   "cell_type": "code",
   "execution_count": null,
   "id": "ea303b69",
   "metadata": {},
   "outputs": [],
   "source": [
    "type(tv_shows_df['creator_names'][1])"
   ]
  },
  {
   "cell_type": "code",
   "execution_count": null,
   "id": "30e2a365",
   "metadata": {},
   "outputs": [],
   "source": [
    "#Replacing empty lists [] with NaN values\n",
    "tv_shows_df = tv_shows_df.applymap(lambda x: np.nan if isinstance(x, list) and len(x) == 0 else x)"
   ]
  },
  {
   "cell_type": "code",
   "execution_count": null,
   "id": "e9ca3049",
   "metadata": {},
   "outputs": [],
   "source": [
    "tv_shows_df = tv_shows_df.replace(['None', None], np.nan)"
   ]
  },
  {
   "cell_type": "code",
   "execution_count": null,
   "id": "bd6bd8c8",
   "metadata": {},
   "outputs": [],
   "source": [
    "tv_shows_df"
   ]
  },
  {
   "cell_type": "code",
   "execution_count": null,
   "id": "a270f078",
   "metadata": {},
   "outputs": [],
   "source": []
  },
  {
   "cell_type": "code",
   "execution_count": null,
   "id": "a367d4f3",
   "metadata": {},
   "outputs": [],
   "source": [
    "# # Dropping the columns where Nan values re more than 75% per row\n",
    "# threshold = len(tv_shows_df) * 0.75\n",
    "# filtered_df = tv_shows_df.dropna(thresh=threshold, axis=1)"
   ]
  },
  {
   "cell_type": "code",
   "execution_count": null,
   "id": "a0a811c1",
   "metadata": {},
   "outputs": [],
   "source": []
  },
  {
   "cell_type": "code",
   "execution_count": null,
   "id": "dccea919",
   "metadata": {},
   "outputs": [],
   "source": [
    "no_nan_df = tv_shows_df.dropna()\n",
    "no_nan_df.shape"
   ]
  },
  {
   "cell_type": "markdown",
   "id": "0edf073f",
   "metadata": {},
   "source": [
    "### Filtering the tv shows with English names only. "
   ]
  },
  {
   "cell_type": "code",
   "execution_count": null,
   "id": "f5208a98",
   "metadata": {},
   "outputs": [],
   "source": [
    "# Llibrary to detect a language\n",
    "from langdetect import detect"
   ]
  },
  {
   "cell_type": "code",
   "execution_count": null,
   "id": "5cc3f157",
   "metadata": {},
   "outputs": [],
   "source": [
    "# A Small dataset to test langdetect\n",
    "\n",
    "# data = {\n",
    "#     'Name': ['John', 'Emma', 'Michael', 'Sophia'],\n",
    "#     'Age': [25, 30, 28, 35],\n",
    "#     'Language': ['English', 'Привіт', 'こんにちは', 'Witam']\n",
    "# }"
   ]
  },
  {
   "cell_type": "code",
   "execution_count": null,
   "id": "35aa3305",
   "metadata": {},
   "outputs": [],
   "source": [
    "# Function to check if language is English\n",
    "def is_english(text):\n",
    "    try:\n",
    "        lang = detect(text)\n",
    "        return lang == 'en'\n",
    "    except:\n",
    "        return False\n",
    "    \n",
    "only_english_df = pd.DataFrame(tv_shows_df)[pd.DataFrame(tv_shows_df)['name'].apply(is_english)]"
   ]
  },
  {
   "cell_type": "code",
   "execution_count": null,
   "id": "e96ca849",
   "metadata": {},
   "outputs": [],
   "source": [
    "only_english_df.shape"
   ]
  },
  {
   "cell_type": "markdown",
   "id": "71aa6299",
   "metadata": {},
   "source": [
    "### Filtering the 'status' column"
   ]
  },
  {
   "cell_type": "code",
   "execution_count": null,
   "id": "ca67e980",
   "metadata": {},
   "outputs": [],
   "source": [
    "# Checking unique values in 'status'\n",
    "only_english_df['status'].unique()"
   ]
  },
  {
   "cell_type": "code",
   "execution_count": null,
   "id": "ffc3e32e",
   "metadata": {},
   "outputs": [],
   "source": [
    "# Dropping rows where 'status' is Canceled\n",
    "filtered_status_df = only_english_df[only_english_df['status'] != 'Canceled']"
   ]
  },
  {
   "cell_type": "code",
   "execution_count": null,
   "id": "bd9520fc",
   "metadata": {},
   "outputs": [],
   "source": [
    "filtered_status_df.shape"
   ]
  },
  {
   "cell_type": "code",
   "execution_count": null,
   "id": "55ce3bfc",
   "metadata": {},
   "outputs": [],
   "source": [
    "# Dropping the 'status' column\n",
    "filtered_status_df = filtered_status_df.drop(columns='status')"
   ]
  },
  {
   "cell_type": "code",
   "execution_count": null,
   "id": "8a42bf7e",
   "metadata": {},
   "outputs": [],
   "source": [
    "filtered_status_df"
   ]
  },
  {
   "cell_type": "markdown",
   "id": "133b3dd9",
   "metadata": {},
   "source": [
    "### Dropping the rows where Nan values are more than 75% per row"
   ]
  },
  {
   "cell_type": "code",
   "execution_count": null,
   "id": "d040efe9",
   "metadata": {},
   "outputs": [],
   "source": [
    "# Checking the row with some NaN values\n",
    "last_row_values = filtered_status_df.iloc[-1].values\n",
    "last_row_values"
   ]
  },
  {
   "cell_type": "code",
   "execution_count": null,
   "id": "7e2d1fe0",
   "metadata": {},
   "outputs": [],
   "source": [
    "# Set the threshold of missing values (30%)\n",
    "threshold = 0.3  \n",
    "# Filtering\n",
    "filtered_df = filtered_status_df[filtered_status_df.isnull().sum(axis=1) / len(filtered_status_df.columns) <= threshold]\n"
   ]
  },
  {
   "cell_type": "code",
   "execution_count": null,
   "id": "aca1abe2",
   "metadata": {},
   "outputs": [],
   "source": [
    "filtered_df.head()"
   ]
  },
  {
   "cell_type": "code",
   "execution_count": null,
   "id": "2e5b7f15",
   "metadata": {},
   "outputs": [],
   "source": [
    "filtered_df.shape"
   ]
  },
  {
   "cell_type": "code",
   "execution_count": null,
   "id": "0db2fbf5",
   "metadata": {},
   "outputs": [],
   "source": [
    "filtered_df = filtered_df.set_index('id').reset_index()"
   ]
  },
  {
   "cell_type": "code",
   "execution_count": null,
   "id": "90cd0b0b",
   "metadata": {},
   "outputs": [],
   "source": []
  },
  {
   "cell_type": "code",
   "execution_count": null,
   "id": "69a2bdb7",
   "metadata": {},
   "outputs": [],
   "source": [
    "filtered_df.dtypes"
   ]
  },
  {
   "cell_type": "code",
   "execution_count": null,
   "id": "8a9561e4",
   "metadata": {},
   "outputs": [],
   "source": [
    "# Changing data type for the first_air_date and the last_air_date\n",
    "filtered_df['first_air_date'] = pd.to_datetime(filtered_df['first_air_date'])\n",
    "filtered_df['last_air_date'] = pd.to_datetime(filtered_df['last_air_date'])\n"
   ]
  },
  {
   "cell_type": "code",
   "execution_count": null,
   "id": "f06fb5ee",
   "metadata": {},
   "outputs": [],
   "source": [
    "filtered_df.dtypes"
   ]
  },
  {
   "cell_type": "code",
   "execution_count": null,
   "id": "bd9083fb",
   "metadata": {},
   "outputs": [],
   "source": [
    "# Chcking for NaN values in the number_of_episodes\n",
    "filtered_df['number_of_episodes'].sort_values().nunique"
   ]
  },
  {
   "cell_type": "code",
   "execution_count": null,
   "id": "1adf56d3",
   "metadata": {},
   "outputs": [],
   "source": [
    "# Droppin NaN values in the number_of_episodes\n",
    "filtered_df = filtered_df.dropna(subset=['number_of_episodes'])\n",
    "filtered_df.shape"
   ]
  },
  {
   "cell_type": "code",
   "execution_count": null,
   "id": "ea317174",
   "metadata": {},
   "outputs": [],
   "source": [
    "# Turning the number_of_episodes to int data type\n",
    "filtered_df['number_of_episodes'] = filtered_df['number_of_episodes'].astype(int)"
   ]
  },
  {
   "cell_type": "code",
   "execution_count": null,
   "id": "50652975",
   "metadata": {},
   "outputs": [],
   "source": [
    "filtered_df.dtypes"
   ]
  },
  {
   "cell_type": "markdown",
   "id": "3c5f58f2",
   "metadata": {},
   "source": [
    "### Saving to csv."
   ]
  },
  {
   "cell_type": "code",
   "execution_count": null,
   "id": "81c26130",
   "metadata": {},
   "outputs": [],
   "source": [
    "# filtered_df.to_csv('tv_shows_data_cleaned.csv', index=False)"
   ]
  },
  {
   "cell_type": "code",
   "execution_count": null,
   "id": "5351e839",
   "metadata": {},
   "outputs": [],
   "source": []
  }
 ],
 "metadata": {
  "kernelspec": {
   "display_name": "flask-env",
   "language": "python",
   "name": "flask-env"
  },
  "language_info": {
   "codemirror_mode": {
    "name": "ipython",
    "version": 3
   },
   "file_extension": ".py",
   "mimetype": "text/x-python",
   "name": "python",
   "nbconvert_exporter": "python",
   "pygments_lexer": "ipython3",
   "version": "3.11.3"
  }
 },
 "nbformat": 4,
 "nbformat_minor": 5
}

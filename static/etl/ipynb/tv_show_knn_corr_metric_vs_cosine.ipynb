{
 "cells": [
  {
   "cell_type": "code",
   "execution_count": 12,
   "id": "a984b233",
   "metadata": {},
   "outputs": [],
   "source": [
    "# Import dependencies\n",
    "import pandas as pd\n",
    "import seaborn as sns\n",
    "import matplotlib.pyplot as plt\n",
    "import nltk\n",
    "from wordcloud import WordCloud, STOPWORDS\n",
    "from nltk.corpus import stopwords\n",
    "from nltk.tokenize import word_tokenize\n",
    "import numpy as np\n",
    "from sklearn.feature_extraction.text import CountVectorizer\n",
    "from sklearn.feature_extraction.text import TfidfVectorizer\n",
    "from sklearn.metrics.pairwise import cosine_similarity\n",
    "from sklearn.neighbors import NearestNeighbors\n",
    "from scipy.sparse import hstack\n",
    "from sklearn.metrics import pairwise_distances\n",
    "\n",
    "# NOTE:  Before running code below, download the following:  nltk.download('punkt')\n",
    "# nltk.download('punkt')\n"
   ]
  },
  {
   "cell_type": "markdown",
   "id": "2517de03",
   "metadata": {},
   "source": [
    "# Features = genres, overview, creator names"
   ]
  },
  {
   "cell_type": "markdown",
   "id": "3cbcf577",
   "metadata": {},
   "source": [
    "## KNN Model"
   ]
  },
  {
   "cell_type": "code",
   "execution_count": 13,
   "id": "37404b10",
   "metadata": {},
   "outputs": [],
   "source": [
    "# Load the dataframe\n",
    "shows = pd.read_csv('../csv/tv_shows_data_cleaned.csv')\n",
    "\n",
    "# Preprocessing\n",
    "shows = shows.drop([\"id\", \"original_name\", \"number_of_seasons\", \"first_air_date\", \"last_air_date\",\n",
    "                        \"in_production\", \"origin_country\", \"original_language\", \"tagline\",\n",
    "                        \"production_names\", \"production_logo_paths\", \"production_origin_countries\", \"poster_path\"], axis=1)\n",
    "\n",
    "# Fill missing values with an empty string\n",
    "shows[\"overview\"].fillna(\"\", inplace=True)  \n",
    "shows[\"genre_name\"].fillna(\"\", inplace=True) \n",
    "shows[\"creator_names\"].fillna(\"\", inplace=True) \n",
    "\n",
    "# Text vectorization\n",
    "overview_vectorizer = TfidfVectorizer(stop_words=\"english\")\n",
    "overview_vectors = overview_vectorizer.fit_transform(shows[\"overview\"])\n",
    "\n",
    "genre_vectorizer = TfidfVectorizer()\n",
    "genre_vectors = genre_vectorizer.fit_transform(shows[\"genre_name\"])\n",
    "\n",
    "creator_vectorizer = TfidfVectorizer()\n",
    "creator_vectors = creator_vectorizer.fit_transform(shows[\"creator_names\"])\n",
    "\n",
    "# Concatenate feature vectors\n",
    "combined_vectors = hstack((overview_vectors, genre_vectors, creator_vectors))\n",
    "\n",
    "# Convert sparse matrix to dense array\n",
    "combined_vectors = combined_vectors.toarray()\n",
    "\n",
    "# Build the similarity calculation\n",
    "knn_model = NearestNeighbors(metric=\"correlation\")\n",
    "knn_model.fit(combined_vectors)\n",
    "\n",
    "\n",
    "# Define recommendation function\n",
    "def knn_recommend_similar_shows(show_title, num_recommendations=5):\n",
    "    show_index = shows[shows[\"name\"] == show_title].index[0]\n",
    "    # Convert the query vector to dense array\n",
    "    query_vector = combined_vectors[show_index].reshape(1, -1)\n",
    "    # Calculate pairwise distances using correlation metric\n",
    "    distances, indices = knn_model.kneighbors(query_vector, n_neighbors=num_recommendations+1)\n",
    "    recommended_show_indices = indices.flatten()[1:]\n",
    "    recommended_shows = shows.loc[recommended_show_indices, \"name\"]\n",
    "    return recommended_shows\n"
   ]
  },
  {
   "cell_type": "markdown",
   "id": "6e83cea8",
   "metadata": {},
   "source": [
    "### Recommendations"
   ]
  },
  {
   "cell_type": "code",
   "execution_count": 14,
   "id": "8e731932",
   "metadata": {},
   "outputs": [
    {
     "name": "stdout",
     "output_type": "stream",
     "text": [
      "KNN Model recommended shows similar to 'Game of Thrones':\n",
      "3356                                Fate/Apocrypha\n",
      "1595                      The Chronicles of Narnia\n",
      "821                              Man from Atlantis\n",
      "3204    Marvel's Agents of S.H.I.E.L.D.: Slingshot\n",
      "2435                        H+: The Digital Series\n",
      "Name: name, dtype: object\n"
     ]
    }
   ],
   "source": [
    "# KNN: Make recommendation\n",
    "input_show = \"Game of Thrones\"\n",
    "recommendations = knn_recommend_similar_shows(input_show)\n",
    "print(f\"KNN Model recommended shows similar to '{input_show}':\")\n",
    "print(recommendations)"
   ]
  },
  {
   "cell_type": "markdown",
   "id": "5003439d",
   "metadata": {},
   "source": [
    "# Features = genres, overview, creator names & POPULARITY"
   ]
  },
  {
   "cell_type": "markdown",
   "id": "7d67251e",
   "metadata": {},
   "source": [
    "## KNN Model"
   ]
  },
  {
   "cell_type": "code",
   "execution_count": 15,
   "id": "7d05c997",
   "metadata": {},
   "outputs": [],
   "source": [
    "# Load the dataframe\n",
    "shows_2 = pd.read_csv('../csv/tv_shows_data_cleaned.csv')\n",
    "\n",
    "# Preprocessing\n",
    "shows_2 = shows_2.drop([\"id\", \"original_name\", \"number_of_seasons\", \"first_air_date\", \"last_air_date\",\n",
    "                        \"in_production\", \"origin_country\", \"original_language\", \"tagline\",\n",
    "                        \"production_names\", \"production_logo_paths\", \"production_origin_countries\", \"poster_path\"], axis=1)\n",
    "\n",
    "# Fill missing values with an empty string\n",
    "shows_2[\"overview\"].fillna(\"\", inplace=True)  \n",
    "shows_2[\"genre_name\"].fillna(\"\", inplace=True) \n",
    "shows_2[\"creator_names\"].fillna(\"\", inplace=True) \n",
    "shows_2[\"popularity\"].fillna(\"\", inplace=True) \n",
    "\n",
    "# Text vectorization\n",
    "overview_vectorizer = TfidfVectorizer(stop_words=\"english\")\n",
    "overview_vectors = overview_vectorizer.fit_transform(shows_2[\"overview\"])\n",
    "\n",
    "genre_vectorizer = TfidfVectorizer()\n",
    "genre_vectors = genre_vectorizer.fit_transform(shows_2[\"genre_name\"])\n",
    "\n",
    "creator_vectorizer = TfidfVectorizer()\n",
    "creator_vectors = creator_vectorizer.fit_transform(shows_2[\"creator_names\"])\n",
    "\n",
    "# Add popularity as a separate feature vector\n",
    "popularity_vector = shows_2[\"popularity\"].values.reshape(-1, 1)\n",
    "\n",
    "# Concatenate feature vectors\n",
    "combined_vectors = hstack((overview_vectors, genre_vectors, creator_vectors, popularity_vector))\n",
    "\n",
    "# Convert sparse matrix to dense array\n",
    "combined_vectors = combined_vectors.toarray()\n",
    "\n",
    "# Build the similarity calculation\n",
    "knn_model = NearestNeighbors(metric=\"correlation\")\n",
    "knn_model.fit(combined_vectors)\n",
    "\n",
    "\n",
    "# Define recommendation function\n",
    "def knn_recommend_similar_shows_2(show_title, num_recommendations=5):\n",
    "    show_index = shows_2[shows_2[\"name\"] == show_title].index[0]\n",
    "    # Convert the query vector to dense array\n",
    "    query_vector = combined_vectors[show_index].reshape(1, -1)\n",
    "    # Calculate pairwise distances using correlation metric\n",
    "    distances, indices = knn_model.kneighbors(query_vector, n_neighbors=num_recommendations+1)\n",
    "    recommended_show_indices = indices.flatten()[1:]\n",
    "    recommended_shows = shows_2.loc[recommended_show_indices, \"name\"]\n",
    "    return recommended_shows\n"
   ]
  },
  {
   "cell_type": "markdown",
   "id": "df4d9323",
   "metadata": {},
   "source": [
    "### Recommendations v2"
   ]
  },
  {
   "cell_type": "code",
   "execution_count": 16,
   "id": "c551040c",
   "metadata": {},
   "outputs": [
    {
     "name": "stdout",
     "output_type": "stream",
     "text": [
      "KNN Model recommended shows similar to 'Game of Thrones':\n",
      "3760                 The Mandalorian\n",
      "2670                       The Flash\n",
      "4472                  Binge Reloaded\n",
      "4065               Dog's Most Wanted\n",
      "4461    Palmashow - Very Bad Blagues\n",
      "Name: name, dtype: object\n"
     ]
    }
   ],
   "source": [
    "# KNN: Make recommendation v2\n",
    "input_show = \"Game of Thrones\"\n",
    "recommendations = knn_recommend_similar_shows_2(input_show)\n",
    "print(f\"KNN Model recommended shows similar to '{input_show}':\")\n",
    "print(recommendations)"
   ]
  },
  {
   "cell_type": "code",
   "execution_count": null,
   "id": "964b10cf",
   "metadata": {},
   "outputs": [],
   "source": []
  },
  {
   "cell_type": "code",
   "execution_count": null,
   "id": "be856c32",
   "metadata": {},
   "outputs": [],
   "source": []
  },
  {
   "cell_type": "code",
   "execution_count": null,
   "id": "dacfadaa",
   "metadata": {},
   "outputs": [],
   "source": []
  },
  {
   "cell_type": "code",
   "execution_count": null,
   "id": "d3e63ab9",
   "metadata": {},
   "outputs": [],
   "source": []
  }
 ],
 "metadata": {
  "kernelspec": {
   "display_name": "Python 3 (ipykernel)",
   "language": "python",
   "name": "python3"
  },
  "language_info": {
   "codemirror_mode": {
    "name": "ipython",
    "version": 3
   },
   "file_extension": ".py",
   "mimetype": "text/x-python",
   "name": "python",
   "nbconvert_exporter": "python",
   "pygments_lexer": "ipython3",
   "version": "3.9.13"
  }
 },
 "nbformat": 4,
 "nbformat_minor": 5
}
